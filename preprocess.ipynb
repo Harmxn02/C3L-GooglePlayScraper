{
 "cells": [
  {
   "cell_type": "markdown",
   "id": "e3aeb03b",
   "metadata": {},
   "source": [
    "# Preprocess\n",
    "\n",
    "Keeping only the useful information from the dataset"
   ]
  },
  {
   "cell_type": "code",
   "execution_count": 2,
   "id": "b8fb2e94",
   "metadata": {},
   "outputs": [
    {
     "data": {
      "application/vnd.microsoft.datawrangler.viewer.v0+json": {
       "columns": [
        {
         "name": "index",
         "rawType": "int64",
         "type": "integer"
        },
        {
         "name": "title",
         "rawType": "object",
         "type": "string"
        },
        {
         "name": "descriptionHTML",
         "rawType": "object",
         "type": "string"
        },
        {
         "name": "summary",
         "rawType": "object",
         "type": "string"
        },
        {
         "name": "installs",
         "rawType": "object",
         "type": "string"
        },
        {
         "name": "minInstalls",
         "rawType": "int64",
         "type": "integer"
        },
        {
         "name": "realInstalls",
         "rawType": "int64",
         "type": "integer"
        },
        {
         "name": "score",
         "rawType": "float64",
         "type": "float"
        },
        {
         "name": "ratings",
         "rawType": "int64",
         "type": "integer"
        },
        {
         "name": "reviews",
         "rawType": "int64",
         "type": "integer"
        },
        {
         "name": "histogram",
         "rawType": "object",
         "type": "string"
        },
        {
         "name": "price",
         "rawType": "int64",
         "type": "integer"
        },
        {
         "name": "free",
         "rawType": "bool",
         "type": "boolean"
        },
        {
         "name": "currency",
         "rawType": "object",
         "type": "string"
        },
        {
         "name": "sale",
         "rawType": "bool",
         "type": "boolean"
        },
        {
         "name": "saleTime",
         "rawType": "float64",
         "type": "float"
        },
        {
         "name": "originalPrice",
         "rawType": "float64",
         "type": "float"
        },
        {
         "name": "saleText",
         "rawType": "float64",
         "type": "float"
        },
        {
         "name": "offersIAP",
         "rawType": "bool",
         "type": "boolean"
        },
        {
         "name": "inAppProductPrice",
         "rawType": "object",
         "type": "unknown"
        },
        {
         "name": "developer",
         "rawType": "object",
         "type": "string"
        },
        {
         "name": "developerId",
         "rawType": "object",
         "type": "string"
        },
        {
         "name": "developerEmail",
         "rawType": "object",
         "type": "string"
        },
        {
         "name": "developerWebsite",
         "rawType": "object",
         "type": "string"
        },
        {
         "name": "developerAddress",
         "rawType": "object",
         "type": "string"
        },
        {
         "name": "privacyPolicy",
         "rawType": "object",
         "type": "string"
        },
        {
         "name": "genre",
         "rawType": "object",
         "type": "string"
        },
        {
         "name": "genreId",
         "rawType": "object",
         "type": "string"
        },
        {
         "name": "categories",
         "rawType": "object",
         "type": "string"
        },
        {
         "name": "icon",
         "rawType": "object",
         "type": "string"
        },
        {
         "name": "headerImage",
         "rawType": "object",
         "type": "string"
        },
        {
         "name": "screenshots",
         "rawType": "object",
         "type": "string"
        },
        {
         "name": "video",
         "rawType": "object",
         "type": "unknown"
        },
        {
         "name": "videoImage",
         "rawType": "object",
         "type": "unknown"
        },
        {
         "name": "contentRating",
         "rawType": "object",
         "type": "string"
        },
        {
         "name": "contentRatingDescription",
         "rawType": "object",
         "type": "unknown"
        },
        {
         "name": "adSupported",
         "rawType": "bool",
         "type": "boolean"
        },
        {
         "name": "containsAds",
         "rawType": "bool",
         "type": "boolean"
        },
        {
         "name": "released",
         "rawType": "object",
         "type": "string"
        },
        {
         "name": "lastUpdatedOn",
         "rawType": "object",
         "type": "string"
        },
        {
         "name": "updated",
         "rawType": "int64",
         "type": "integer"
        },
        {
         "name": "version",
         "rawType": "object",
         "type": "string"
        },
        {
         "name": "comments",
         "rawType": "object",
         "type": "string"
        },
        {
         "name": "appId",
         "rawType": "object",
         "type": "string"
        },
        {
         "name": "url",
         "rawType": "object",
         "type": "string"
        }
       ],
       "conversionMethod": "pd.DataFrame",
       "ref": "923f19f3-43cd-4fa0-a089-2c8f59c1c838",
       "rows": [
        [
         "0",
         "Google Fit: Activity Tracking",
         "Get to a healthier and more active life with the new Google Fit!<br><br>It&#39;s hard to know how much or what kind of activity you need to stay healthy. That&#39;s why Google Fit collaborated with the World Health Organization (WHO) and the American Heart Association (AHA) to bring you Heart Points, an activity goal that can help improve your health.<br><br>Activities that get your heart pumping harder have tremendous health benefits for your heart and mind. You&#39;ll earn one Heart Point for each minute of moderate activity like picking up the pace when walking your dog, and double points for more intense activities like running. It takes just 30-minutes of brisk walking five days a week to reach the AHA and WHO&#39;s recommended amount of physical activity shown to reduce the risk of heart disease, improve sleep, and increase overall mental wellbeing.<br><br>Google Fit will also help you:<br><br>TRACK YOUR WORKOUTS FROM YOUR PHONE OR WATCH<br>Get instant insights when you exercise and see real-time stats for your runs, walks, and bike rides. Fit will use your Android phone&#39;s sensors or Wear OS by Google smartwatch&#39;s heart rate sensors to record your speed, pace, route, and more.<br><br>MONITOR YOUR GOALS<br>See your daily progress on your Heart Points and Steps goal. Meeting your goals all the time? Easily adjust your goals to keep challenging yourself to achieve a healthy heart and mind.<br><br>MAKE ALL YOUR MOVEMENT COUNT<br>If you walk, run, or bike throughout the day, your Android phone or Wear OS by Google smartwatch will automatically detect and add your activities to your Google Fit journal to ensure you get credit for every move. Want extra credit? Turn up the tempo on your walks by starting a paced walking workout and stepping to the beat. Enjoy a different type of workout? Select it from a list of activities like pilates, rowing, or spinning, and Google Fit will track all the Heart Points you earn.<br><br>CONNECT WITH YOUR FAVORITE APPS AND DEVICES<br>Fit can show you info from many of your favorite apps and devices to give you a holistic view of your health, so you&#39;ll never lose track of your progress. These include Lifesum, Wear OS by Google, Nike+, Runkeeper, Strava, MyFitnessPal, Basis, Sleep as Android, Withings, Xiaomi Mi bands, and more.<br><br>CHECK IN AT ANYTIME, FROM ANYWHERE<br>See a snapshot of your activity history across Fit and your integrated apps in the redesigned journal. Or, get the full picture in browse, where you can find all of your health and wellness data.<br><br>KEEP A FINGER ON THE PULSE OF YOUR HEALTH<br>Breathing is one of the simplest ways to reduce tension and relieve stress. With Fit, checking in with your breath is easy—all you need is your phone camera. As well as your respiratory rate, you can measure your heart rate to get a better understanding of your body’s wellbeing.<br><br>VIEW YOUR DAY&#39;S STATS AT A GLANCE<br>Add a widget to the home screen of your Android phone or set up a tile and complication on your Wear OS by Google smartwatch.<br><br>Learn more about Google Fit and see a list of supported apps at: www.google.com/fit",
         "Want to take charge of your health? Let Google Fit help you reach your goals.",
         "100,000,000+",
         "100000000",
         "296117598",
         "3.625644",
         "654801",
         "28657",
         "[142175, 48580, 55516, 74414, 334095]",
         "0",
         "True",
         "USD",
         "False",
         null,
         null,
         null,
         "False",
         null,
         "Google LLC",
         "5700313618786177705",
         "apps-help@google.com",
         "http://www.android.com/",
         "1600 Amphitheatre Parkway, Mountain View 94043",
         "http://www.google.com/policies/privacy",
         "Health & Fitness",
         "HEALTH_AND_FITNESS",
         "[{'name': 'Health & Fitness', 'id': 'HEALTH_AND_FITNESS'}]",
         "https://play-lh.googleusercontent.com/jArSD-kxOa2llPXvqrjRcEJdL4XhjP8-WqEfg9UAlYF8v0qzXAZ0EI5k96l0pf3tDNg",
         "https://play-lh.googleusercontent.com/PZ0lg4Ip7xtATY6HzziurtOpH53w37Bz8kMzOOV9wyH-mSsw1gc4spVFZCgE0Y5qgA",
         "['https://play-lh.googleusercontent.com/fAvgVK17vHg9u2vunheRDa-oARLz338U2-vgdBtrpESk9KHwuIzfI18C8J90SaZsI_c', 'https://play-lh.googleusercontent.com/XbLMBC4ZgXRa5qB2FyKxAufNtQ0p00dqW5zw8LsA4DoiF6ikMLmnOgs099BpCcrRXM4', 'https://play-lh.googleusercontent.com/krIjCL2Ew2ldj9zkVCTN4d-IMpo5_kSf7_PfPPWJgydESNrmgfLW5UAqhcK1YW9PxA', 'https://play-lh.googleusercontent.com/bKZ7OcnxwEKtgMsb2qQGg4DpTD0_wY9UmLNG14l-1TyxkmxlajOhUdgyBc6aiQqOCA', 'https://play-lh.googleusercontent.com/POtMBU5sJXgNRDcSPS3AE5_7rUSesOw-vlYKrEf4Bq-oQRukpvr4luKGxdhjuooxb0Y', 'https://play-lh.googleusercontent.com/s_kuEZroENw_JfVVAK_InQyoc6bUi2boPRcmO83MyC6Gpvz_mZUrMDwOXl1jHweBkC4', 'https://play-lh.googleusercontent.com/QUu5nxk9UAq8qcySoY0qbp2fQKHjJl7SmvHymjzqrWygublIl08p6eAC5JH6RXEE64Ji', 'https://play-lh.googleusercontent.com/T7EH8ieyvRJdKcmxIH5UMm6dbaWGBfJ7hWEFeYGW_q1FNs9yEhTg3vbVImSoH2g7zA', 'https://play-lh.googleusercontent.com/lWCOqVE5h_WCPN8sA2kOVhajmy-VbyjXbWgGdhyU95lruKpwpMx-sG8HgCFlOKXZ0F_P']",
         null,
         null,
         "Everyone",
         null,
         "False",
         "False",
         "Oct 28, 2014",
         "Mar 21, 2025",
         "1742558663",
         "Varies with device",
         "[]",
         "com.google.android.apps.fitness",
         "https://play.google.com/store/apps/details?id=com.google.android.apps.fitness&hl=en&gl=us"
        ],
        [
         "1",
         "Samsung Health",
         "Start healthy habits for yourself with Samsung Health.<br><br>Samsung Health has various features to help you manage your health. As the app allows you to automatically record many activities, creating a healthy lifestyle is easier and simpler than ever.<br><br>Check various health records on the home screen. Easily add and edit the items that you want to manage such as daily steps and activity time.<br><br>Record and manage your fitness activities, such as running, cycling, swimming, etc. Also, Galaxy Watch wearables user can now exercise more effectively through Life Fitness, Technogym and Corehealth.<br><br>Create healthy eating habits by recording your daily meals and snacks with Samsung Health.<br><br>Work hard and always maintain your best condition with Samsung Health. Set goals that work for your own level, and keep track of your daily condition including your activity amount, workout intensity, heart rate, stress, oxygen level in the blood, etc.<br><br>Monitor your sleep patterns in more detail with Galaxy Watch. Make your mornings more refreshing by improving the quality of your sleep through sleep levels and sleep scores.<br><br>Challenge yourself against your friends and family to become healthier in a more fun and interactive way with Samsung Health Together.<br><br>Samsung Health has prepared videos of expert coaches who will teach you new fitness programs including stretching, weight loss, and more.<br><br>Discover meditation tools on Mindfulness that will help you relieve stress throughout your day. (Some contents are only available through an optional paid subscription. Content is available in English, German, Spanish, French, Portuguese and Korean.)<br><br>Cycle tracking offers helpful support in menstrual cycle tracking, related symptom management and personalized insights and contents through your partner, Natural Cycles.<br><br>Samsung Health protects your private health data securely. All Samsung Galaxy models released after August 2016, Knox enabled Samsung Health service will be available. Please note that Knox enabled Samsung Health service will not be available from rooted mobile.<br><br>Tablets and some mobile devices are not supported, and detailed features may vary depending on the user’s country of residence, region, network carrier, model of the device, etc.<br><br>Requires Android 10.0 or later. Supports over 70 languages, including English, French, and Chinese. An English language version is available for the rest of the world.<br><br>Please note that Samsung Health is intended for fitness and wellness purposes only and is not intended for use in the diagnosis of disease or other conditions, or in the cure, mitigation, treatment, or prevention of disease.<br><br>The following permissions are required for the app service. For optional permissions, the default functionality of the service is turned on, but not allowed.<br><br>Optional permissions<br>- Location : Used to collect your location data using the trackers(exercises &amp; steps), Used to display a route map for exercise, and to display the weather during exercise<br>- Body Sensors : Used to measure heart rate, oxygen saturation, and stress (HR&amp;Stress : Galaxy S5~Galaxy S10 / SpO2 : Galaxy Note4~Galaxy S10)<br>- Photos and videos(storage) : You can import/export your exercise data, save exercise photos, save/load food photos<br>- Contacts : Used to check if you are logged into your Samsung account, and to create a friend list for Together<br>- Camera : Used to scan QR codes when you add friends using the Together, and to take photos of foods, and to recognize numbers on a blood glucose meter&amp;blood pressure monitor(Available in some countries only)<br>- Physical activity : Used to count your steps and to detect workouts<br>- Microphone : Used to record audio for snore detection<br>- Nearby devices : Used to scan for and connect to nearby devices, including Galaxy Watches and other accessories<br>- Notifications : Used to provide you with timely information<br>- Phone : Used to confirm your phone number for Together.",
         "Lifestyle companion to track your fitness, weight, diet, food & sleep.",
         "1,000,000,000+",
         "1000000000",
         "2042364950",
         "3.6190722",
         "1527915",
         "74556",
         "[315785, 122543, 153946, 171225, 764387]",
         "0",
         "True",
         "USD",
         "False",
         null,
         null,
         null,
         "False",
         null,
         "Samsung Electronics Co.,  Ltd.",
         "5200379633052405703",
         "noreply.sec@samsung.com",
         "https://www.samsung.com/global/galaxy/apps/samsung-health/",
         "129, Samsung-ro, Yeongtong-gu, Suwon-si, Gyeonggi-do, 16677, Rep. of KOREA",
         "https://www.samsunghealth.com/privacy/",
         "Health & Fitness",
         "HEALTH_AND_FITNESS",
         "[{'name': 'Health & Fitness', 'id': 'HEALTH_AND_FITNESS'}]",
         "https://play-lh.googleusercontent.com/le2tv6aaAbpIqEnAnP-KGJbsrcEuePSLZGG4KikbC4mjzpl8itxOJg1oQo6dMgRLxw",
         "https://play-lh.googleusercontent.com/aZ1FwD3w1jNbHebz_UIOvUODiFeBw6BIP6uUhv4kGi1kKqUEs57xTYSIdurWx6ZPUZg",
         "['https://play-lh.googleusercontent.com/AJGHnpJkcHEEnlM2jcWEFFqrCJ8PFk7glMSbwZYzHE7bh8oXLkcM6p_Cj9SDLR33bZE', 'https://play-lh.googleusercontent.com/BbmYAEYDq61SufpCitUC7lIRL2H6b76xyEN3J277VcxOA_RItX3rResw6iMiCAQtyE4', 'https://play-lh.googleusercontent.com/SUnZFa8N2dc4pVD6sT9wgUiAUXgb2Bm-epsLrdaKOFQjfEe2ZlwP1GNGWUd-sE9KxUQ', 'https://play-lh.googleusercontent.com/gvln_w-mnmFgXUu88Gv7XamOMerjTCOG7rugLU6B-1VZDGBkGQoVCmPcE_uzmc1jp6A', 'https://play-lh.googleusercontent.com/VoeroTKJhxHjcu3W3w8Oe4ftQRNo9C3vaI6yxTXOgY5psyIxlo_iCbfY5q-Fjwydmw', 'https://play-lh.googleusercontent.com/F1jtLUZ-jmzaC1KnlhcTTR_yZPqL459jCVskjtt-W7PVkdDKFpmvkrLSPE_MDHhgcfQ']",
         null,
         null,
         "Everyone",
         null,
         "False",
         "False",
         "Apr 7, 2015",
         "Mar 27, 2025",
         "1743139435",
         "Varies with device",
         "[]",
         "com.sec.android.app.shealth",
         "https://play.google.com/store/apps/details?id=com.sec.android.app.shealth&hl=en&gl=us"
        ],
        [
         "2",
         "Fitbit",
         "See the big picture on your health and fitness journey with the Fitbit app. Find easy ways to get active, sleep better, stress less and eat healthier.<br><br>Track the stats you care about across health, fitness and sleep, and change your goals as your routines evolve. Stay motivated with energizing workout content for your body and mind. See how far you’ve come with a glance at your personal goal progress and how you stack up to friends and family. Unlock even more possibilities when you sync up with a wearable device like Fitbit tracker or smartwatch and see how your activity, sleep, nutrition and stress all fit together.<br><br>GET MORE ACTIVE: See how small moves add up by using your smartphone to track steps and distance—or pair with a Fitbit tracker or Wear OS by Google smartwatch to record your heart rate, Active Zone Minutes, calories burned and more. Leverage tiles and complications to easily access your stats.It’s a fitness planner in your pocket: Use the app as a diary to set goals and track your progress. Plus, that motivation you’ve been looking for is right in the app. Bring the gym home with a curated list of audio and video workouts that you can do at your own pace, right from your living room.* You’ll find sessions for HIIT, cardio, strength, running, biking, yoga and more.<br><br>TRACK YOUR HEART HEALTH: Understand your overall health by using your watch or tracker to keep tabs on your heart rate 24/7. Monitor your heart rhythm and see your resting heart rate trends, plus time spent in heart rate zones during workouts.<br><br>SLEEP BETTER: Find sleep tools to help you learn about your sleep quality and improve it—from  measuring your sleep duration and sleep stages to understanding your restless time. Set reminders for bedtime and wake-up time to keep your sleeping schedule managed.<br><br>STRESS LESS: Listen to audio sessions to lessen stress and improve your mood. Use mindfulness to start your day a better way, find moments of calm and set intentions with meditation or get help falling asleep with breathing exercises and relaxing sounds.*<br><br>EAT SMARTER: Keep your diet in check with easy-to-use tools for setting goals. Tracking meals and logging food &amp; water intake lets you see if you’re getting enough protein, fat, fiber and carbs on your way to managing your weight and overall health.<br><br>EVEN MORE WITH FITBIT PREMIUM: Upgrade to Fitbit Premium and get all the guidance, insights and inspiration you need to take your workout routine to the next level. [link: https://www.fitbit.com/global/us/products/services/premium]<br><br>• Your Daily Readiness Score helps you understand when it’s time to go all out and when it’s time for rest &amp; recovery—plus, you’ll get recommended workouts based on your body’s needs.<br>• Get the support you need across a whole library of workouts to keep your mind and body fit—from strength training, HIIT and cycling to dance cardio, yoga, meditation and more—led by Fitbit’s expert trainers who are ready to coach.<br>• Perfect your mindfulness practice with a full library of sessions that calm anxiety, prep for sleep and even help you meditate while walking.<br>• Find new ways to rest &amp; recover with your Sleep Score. Plus, check out your sleep patterns and monthly trends in your Sleep Profile.<br>• Feed your appetite with access to easy, healthy recipes to help you reach your nutrition goals and bring your wellness full circle.<br><br><br>*A Fitbit Premium subscription is required to access the full content library.<br><br>Some Fitbit devices let you handle calls and texts right from your wrist so permissions might be required during setup.",
         "Fitbit is dedicated to helping people lead healthier, more active lives.",
         "100,000,000+",
         "100000000",
         "137447244",
         "4.0493813",
         "1172433",
         "238534",
         "[158936, 60371, 69881, 157897, 725338]",
         "0",
         "True",
         "USD",
         "False",
         null,
         null,
         null,
         "True",
         "$7.99 - $79.99 per item",
         "Google LLC",
         "5700313618786177705",
         "android@fitbit.com",
         "https://support.google.com/fitbit",
         "1600 Amphitheatre Parkway, Mountain View 94043",
         "http://www.fitbit.com/privacy",
         "Health & Fitness",
         "HEALTH_AND_FITNESS",
         "[{'name': 'Health & Fitness', 'id': 'HEALTH_AND_FITNESS'}]",
         "https://play-lh.googleusercontent.com/QhMCymTyxJbzRiwMBA-GYooS-nVKm3fHg2CSRyKHvhmC-e5vOibfST73y1MmScvtPw",
         "https://play-lh.googleusercontent.com/GsmD_AIhqiXBgIUGlEDeMZVXgVUAH0mH1RDG0J3AjcR8eap3ZvZ6T6hLw_4I8e411fY",
         "['https://play-lh.googleusercontent.com/6rjEtIwRo5k2iOZYbXUIEewnFGo8AJboujtna-9iVKhmRRO-fmsdv0skPTG4KFtt9A', 'https://play-lh.googleusercontent.com/gXGdt35AKnlDG-lhqhPJzXcvR0G7lZSl4SFSb7t5_xTES2X_bLBXXt0t0nh-l-OludI', 'https://play-lh.googleusercontent.com/iNjYSIQm432qolpWsN6LUqcDtoVXFPGIHNEauf77-smSpydtX7tUx0jypCloxGGd2zA', 'https://play-lh.googleusercontent.com/Ks-huL95lIIQHyNDS6DzRd2HukFxGnAMIrgDMZtkXNvaDa_LkeexEMqm0FECMdnHcs8', 'https://play-lh.googleusercontent.com/egwVmp7nQNPXeIsYFMfK1bGBp30x-H2j3M_CBsijJWQy8396_h3PfCDKnO7zYNwr57d0', 'https://play-lh.googleusercontent.com/nfJrRoQiWrwoHD0_lhFGKZ1Pk_Sj7n3X7xwMPX0LY3Lrvw6EuEao5PwhIEiSvVcTGg', 'https://play-lh.googleusercontent.com/EA8eZPUPhfHRWZODItuXsLw1XOy-V-pLD2oum1luiTJg8yvxhMYdPn0q13KfOFjtrTrX', 'https://play-lh.googleusercontent.com/5MXaSgonwPR81mZOIUcPNQiW7T949gPEKnQra0k4pI3XChAtRpB1fn1N489JXZg5lGGJ', 'https://play-lh.googleusercontent.com/A-pgjnuZ_6J7P2yeL7Vf0TIJt9wRVCJ8kH5nwsePtw4lWvwRERih0hQfIXYIs_66zEFC', 'https://play-lh.googleusercontent.com/Kx1wgpu7728iFe5YlZozbbKt1MK38wLghzvHyC-Q3nPURRjLDDnrodStNH8VGpCSxdA', 'https://play-lh.googleusercontent.com/VjGUpqklLxf0MUgc7ZPryr3FYAbYrAaWSPgNfz-gHK9h2jXkcwvexo6KhhOyr74gGQ']",
         "https://www.youtube.com/embed/k3xb-jKsQ08?ps=play&vq=large&rel=0&autohide=1&showinfo=0",
         "https://play-lh.googleusercontent.com/GsmD_AIhqiXBgIUGlEDeMZVXgVUAH0mH1RDG0J3AjcR8eap3ZvZ6T6hLw_4I8e411fY",
         "Everyone",
         null,
         "False",
         "False",
         "Mar 16, 2012",
         "Apr 28, 2025",
         "1745856748",
         "Varies with device",
         "[]",
         "com.fitbit.FitbitMobile",
         "https://play.google.com/store/apps/details?id=com.fitbit.FitbitMobile&hl=en&gl=us"
        ],
        [
         "3",
         "MyFitnessPal: Calorie Counter",
         "Track progress toward your health, nutrition, fitness, and weight loss goals with MyFitnessPal. This all-in-one food tracker, calorie counter, macro tracker, and fitness tracker is like having <b>a nutrition coach, meal planner, fitness tracker &amp; food diary</b> with you every day.<br><br>MyFitnessPal is a health and nutrition app that helps you learn about your food habits, monitor your diet and conquer your health goals.<br><br><b>Download our health and nutrition app and start your free 30-day Premium trial</b> to gain access to exclusive food &amp; intermittent fasting tracker and fitness logging tools, expert guidance, and the calorie counter. You’ll soon discover why MyFitnessPal is the #1 nutrition, weight loss and food tracker in the U.S and has been featured in the New York Times, Wall Street Journal, the Today Show, and U.S. News &amp; World Report.<br><br><br><b>MORE THAN A CALORIE <br>COUNTER &amp; DIET JOURNAL</b><br><br>MyFitnessPal, the leading health and nutrition app, is like having a fitness tracker, macros counter, diet planner, and nutrition coach at your fingertips.<br><br>■ <b>Log Food</b> – Easy-to-use planner tools that makes food tracking quick and simple<br>■ <b>Track Activity</b> – Add workouts and steps with the fitness tracker and planner<br>■ <b>Customize Your Health &amp; Fitness Goals</b> – Weight loss, weight gain, weight maintenance, nutrition &amp; fitness<br>■ <b>See Your Fitness Progress</b> – Track at a glance, or analyze your diet &amp; macros in detail<br>■ <b>Learn From a Registered Dietitian</b> – Meal Plans customized for your target calories and macros, whether you’re into weight loss or weight gain —with access to our Meal Planner, macro tracker, and Calorie Counter tools<br>■ <b>Stay Inspired</b> – 500+ healthy recipes for a healthy diet and 50 workouts keep fitness routines fresh and fun <br>■ <b>Connect with the MyFitnessPal Community</b> – Find friends and motivation in our active MyFitnessPal forums<br><br><b>A CLOSER LOOK AT FEATURES &amp; BENEFITS</b><br><br><b>Gain Valuable Health Insights Through Food Logging</b><br>It’s not just a calorie counter for weight loss, diet trends, or a fast route to fat loss—it’s a health &amp; nutrition app and planner that helps you hold yourself accountable.<br><br>■ One of the Largest Food Databases – Calorie Counter for over 14 million foods (including restaurant dishes)<br>■ Fast &amp; Easy Food Tracker &amp; Planner Tools – Type to search, add foods from your history, or scan a barcode or entire meal with your phone’s camera<br>■ Calorie Counter – Follow your food intake with the calorie counter and see your daily progress<br>■ Macro Tracker – See carbs, fat &amp; protein breakdown by gram or percentage—no need for a separate carb tracker!<br>■ Nutrition Tracker and Insights – Analyze nutrition intake and set specific goals for macros, cholesterol, sodium, fiber &amp; more<br>■ Water Tracker –  Make sure you’re staying hydrated<br><br><b>Customize Your App Experience</b><br>Choose your settings and achieve your goals with MyFitnessPal<br><br>■ Custom Goals – Follow your energy intake by meal or day with the calorie counter, set goals with the macro tracker &amp; more<br>■ Personalized Dashboards – Pick health,  fitness, and diet stats you want to see at a glance<br>■ Net Carbs Mode/Carb Tracker – To simplify a low-carb or keto diet, view net (not total) carbs<br>■ Protein and Calorie Counter – Set your protein goals and track how much you eat during the day<br>■ Add Your Own Meals/Food Tracker – Save recipes and meals for quick logging and keep tabs on your diet <br>■ Count Calories From Exercise – Decide how your activities, workouts, fitness and diet affect daily calorie goals<br>■ Connect 50+ Apps &amp; Devices – From smartwatch, fitness trackers and other health and fitness apps<br>■ Track With Wear OS – A calorie counter, water tracker, and macro tracker on your watch. Add complications to the home screen for faster logging, and the tile for tracking different nutrients at-a-glance.<br><br>View our terms &amp; conditions and privacy policy: https://www.myfitnesspal.com/privacy-and-terms",
         "Log food, nutrition, and macros, find high-protein recipes, and lose weight",
         "100,000,000+",
         "100000000",
         "125773527",
         "4.3585854",
         "2818625",
         "452031",
         "[207995, 94040, 156692, 380405, 1979484]",
         "0",
         "True",
         "USD",
         "False",
         null,
         null,
         null,
         "True",
         "$0.99 - $99.99 per item",
         "MyFitnessPal, Inc.",
         "MyFitnessPal,+Inc.",
         "androidfeedback@myfitnesspal.com",
         "http://www.myfitnesspal.com",
         "100 Congress Ave\nSuite 400\nAustin, TX 78701",
         "https://www.myfitnesspal.com/privacy-policy",
         "Health & Fitness",
         "HEALTH_AND_FITNESS",
         "[{'name': 'Health & Fitness', 'id': 'HEALTH_AND_FITNESS'}]",
         "https://play-lh.googleusercontent.com/DtR_W1lA1tKsbrr2DUo3TLNzqi9qRyxPqDuCyJeGLU6OMJKqg7CEqs45btRqvDFNDI3Y",
         "https://play-lh.googleusercontent.com/BDH6GfNI27IxAjhfwuqo0Y17faVTfiBowi5sUKIwLFFA0W2CDNQ2px_Ial9DNklvLp8",
         "['https://play-lh.googleusercontent.com/dn4abxdmN7_6ONwNP6AgVa2IT5NYQ1sOxafhlg4UbhDjOQusQXte9CN_ais1NWL-f4Fv', 'https://play-lh.googleusercontent.com/VVE0geMHujqJDLEUkOPlJrGuzYuSwu5OGTuDklVvRrmwkjOCO80jMn0ueRdzRFMIIQ', 'https://play-lh.googleusercontent.com/cMEitM-wP6-j8n7jcYNuwtFdqWTsa-XeWp8B7N5_H_fH5HQR6n4Sbr974ASDhnmDBg', 'https://play-lh.googleusercontent.com/v6Ek2W4Bw9VaxbuJURLA395UauLwzvbnAXuasQibcg2ngMDsCtw3HnoCyMsuwXAm7C4', 'https://play-lh.googleusercontent.com/Iot1cHUdpwHPF1TH5UzVbLLFxyydYVJvvQXNlwfqzANFXjGIAQl7n3CGc3ZsNqMxD1Q', 'https://play-lh.googleusercontent.com/Txol3YgM5DmzwITusXodPjB9hvAr3W8Y5cGrrDQP3u4_PhsebsJPs3iEH0RawTVagw', 'https://play-lh.googleusercontent.com/aGbFe3SgDjfWxzipNGnVP8vBfXfm_5T_wNV3EsTmajy4d-rd0dGqQc9CP077yOPeTg', 'https://play-lh.googleusercontent.com/XQ13vCqt_fS33pV7hOFovuQQVDwNZrEHD6hhTpZQCEpGtFmetq6Zclw3THTBjHrjnjU', 'https://play-lh.googleusercontent.com/i_2hVjesVqbRn5rc19dOX7A126U1ODwkSN3ghwxlPtM4mMJIed-9N5YlYLWo85sNqQ', 'https://play-lh.googleusercontent.com/RaN4h185nK00gxZKlukAZFm2LvMHnJanIrQOWXTrn9egRARv-Gg2UMAxLE7kfWeFzbA', 'https://play-lh.googleusercontent.com/i44ilkcaiBAWXsRcpAJcwWx7Few4CPvJOqsaeTdXw_D7_egcMJS0lLOIisKxEbtG_v0']",
         "https://www.youtube.com/embed/96Fo-LbJLro?ps=play&vq=large&rel=0&autohide=1&showinfo=0",
         "https://play-lh.googleusercontent.com/BDH6GfNI27IxAjhfwuqo0Y17faVTfiBowi5sUKIwLFFA0W2CDNQ2px_Ial9DNklvLp8",
         "Everyone",
         null,
         "True",
         "True",
         "Apr 26, 2010",
         "Apr 22, 2025",
         "1745327016",
         "Varies with device",
         "[]",
         "com.myfitnesspal.android",
         "https://play.google.com/store/apps/details?id=com.myfitnesspal.android&hl=en&gl=us"
        ],
        [
         "4",
         "Strava: Run, Bike, Hike",
         "<b>Join over 125 million active people on Strava – the free app where building community meets fitness tracking.</b> <br><br>Whether you&#39;re a world-class athlete or just starting out, Strava has your back the entire journey. Here&#39;s how: <br><br><b>Track your growth</b> <br><br>• <b>Record It All:</b> Running, cycling, walking, hiking, yoga. You can record all those activities – plus over 40 other sport types. If it&#39;s not on Strava, it didn’t happen. <br>• <b>Connect Your Favorite Apps and Devices:</b> Sync with thousands of devices like Apple Watch, Garmin, Fitbit and Peloton – you name it. The Strava Wear OS app includes a tile and a complication you can use to quickly launch activities.<br> <br>• <b>Understand Your Progress:</b> Get data insights to see how you&#39;re improving over time. <br>• <b>Compete on Segments:</b> Show off your competitive streak. Race against others on segments to the top of the leaderboards and become the King or Queen of the Mountain. <br><br><b>Find and connect with your crew</b> <br><br>• <b>Build a Support Network:</b> Take the Strava community offline and meet in real life. Use the Clubs feature to join local groups or create your own. <br>• <b>Join and Create Challenges:</b> Participate in monthly challenges to chase new goals, collect digital badges and stay motivated while encouraging others. <br>• <b>Stay Connected:</b> Your Strava feed is filled with real efforts from real people. Follow friends or your favorite athletes and send kudos to celebrate every win (big and small). <br><br><b>Move with confidence</b> <br><br>• <b>Move Safer with Beacon:</b> Share your real-time location with loved ones for an extra layer of safety during your activities. <br>• <b>Control your privacy:</b> Adjust who can see your activities and personal data. <br>• <b>Edit Map Visibility:</b> Hide the beginning or end points of your activities. <br><br><b>Get even more with a Strava subscription</b><br>•  <b>Discover Routes Anywhere:</b> Get intelligent route recommendations with popular routes based on your preferences and location, or create your own bike routes and footpaths using our Routes tool. <br>• <b>Live Segments:</b> Receive real-time updates on your performance during popular segments. <br>• <b>Training Log &amp; Best Efforts:</b> Dive deeper into your data to understand your progress and set new personal records. <br>• <b>Group Challenges:</b> Create challenges with friends to stay motivated together. <br>• <b>Athlete Intelligence (AI):</b> Access AI-driven insights that makes your workout data easy to understand. No confusion. No guesswork. <br>• <b>Access Recover Athletics:</b> Prevent injury with custom exercises tailored to your activities.<br>•  <b>Goals:</b> Set custom goals for distance, time or segments, and stay motivated as you work towards them. <br>• <b>Deals:</b> Enjoy special offers and discounts from our partner brands.<br>• <b>Training Log:</b> Dive deeper into your data with detailed training logs and track your progress over time. <br><br>Whether you’re aiming for a personal best or just getting started, you belong here. Just record and go. <br><br>Strava includes both a free version and a subscription version with premium features. <br><br>Terms of Service: https://www.strava.com/legal/terms Privacy Policy: https://www.strava.com/legal/privacy NOTE ON GPS SUPPORT: Strava depends on GPS for recording activities. In some devices, the GPS does not work properly and Strava will not record effectively. If your Strava recordings show poor location estimation behavior, please try to update the operating system to the most recent version. There are some devices which have consistently poor performance with no known remedies. On these devices, we restrict installation of Strava, for example the Samsung Galaxy Ace 3 and the Galaxy Express 2. See our support site for more information: https://support.strava.com/hc/en-us/articles/216919047-Supported-Android-devices-and-Android-operating-systems",
         "Track your active life in one place and share the journey with friends.",
         "50,000,000+",
         "50000000",
         "89102800",
         "4.3840685",
         "937138",
         "32288",
         "[85708, 30925, 32254, 77050, 711181]",
         "0",
         "True",
         "USD",
         "False",
         null,
         null,
         null,
         "True",
         "$2.99 - $79.99 per item",
         "Strava Inc.",
         "Strava+Inc.",
         "support@strava.zendesk.com",
         "https://www.strava.com/",
         "Strava, Inc\n208 Utah Street\nSan Francisco, CA 94103",
         "https://www.strava.com/privacy",
         "Health & Fitness",
         "HEALTH_AND_FITNESS",
         "[{'name': 'Health & Fitness', 'id': 'HEALTH_AND_FITNESS'}]",
         "https://play-lh.googleusercontent.com/j-ZV144PlVuTVsLuBzIKyEw9CbFnmWw9ku2NJ1ef0gZJh-iiIN1nrNPmAtvgAteyDqU",
         "https://play-lh.googleusercontent.com/z0gWi0qvk2lOvIwKZmE37Ei3A7nZinohGMictJY9ydHIluAJ49px0eI9ieNNZfyWPQ",
         "['https://play-lh.googleusercontent.com/ARuNrK5k9U80tOuFTw8hTGuSoELOUO_xrwcKwPoi22EjaTfcyjJssYue8Sq2hT2tPQ', 'https://play-lh.googleusercontent.com/nRp98Zl71GW_zLL-wtmruKJcacw65EcOTaupOCEyOBjzhwUFoYM1ypXDQmEePDgNRQ', 'https://play-lh.googleusercontent.com/8rs3ibSXPYYWV70fdXqcamZ017dYIvKADy-0yPACdBiTUYZh60zr2ZDSmO0iM17jEaQ', 'https://play-lh.googleusercontent.com/VJT9cYF6de8EwWvupuoO0uRWKp-ifyyz31QmZNHOl1JagRtNgRmnfqNjqYthP2rtfOs', 'https://play-lh.googleusercontent.com/7pYw7ddtKBE2v-4Wi85wbDkyNHrZFHYTfQvBf1BwxKK90qy8H6bq1iLCHbCbT7FSng', 'https://play-lh.googleusercontent.com/wb-4QOfDxfn-JR9Qv38nkkJ8ieJJkgNdJT38bPNHDwvb8nLNNByVAB9zBc5uf06C4Lo', 'https://play-lh.googleusercontent.com/nk37OR6m7Jd25dUUHXzhJu8P0OhYQlq3Vq4cYD1KDRKS9QglbbIV9BgPyRab6olE-A', 'https://play-lh.googleusercontent.com/RlicXLprUbJpa8p7rB9XbmBwrSfG8trPq_Oc8mkOJHZMQzSIJTCn9KbdE0sHrkOhyw', 'https://play-lh.googleusercontent.com/P2GV8G1EyOH5uIb12UzuZ7pWz4GIcfwoaVrTwA6GIodGdVXom6h3nJndZxieDHnYQr0', 'https://play-lh.googleusercontent.com/6V5XLAfWECnSUqf3lXsFP75QL4fYCmzsars-ESkWGZws0dCDE_bzfsb253LF1gs1UzU', 'https://play-lh.googleusercontent.com/0g9mqto277HW2rJ4oCjYwZhspA4HsAy4QxAdPHmaHWmGbDUsYBhvvP8BjGf8OgdBzsk']",
         null,
         null,
         "Teen",
         null,
         "False",
         "False",
         "Jun 9, 2011",
         "Apr 28, 2025",
         "1745879517",
         "Varies with device",
         "[]",
         "com.strava",
         "https://play.google.com/store/apps/details?id=com.strava&hl=en&gl=us"
        ]
       ],
       "shape": {
        "columns": 44,
        "rows": 5
       }
      },
      "text/html": [
       "<div>\n",
       "<style scoped>\n",
       "    .dataframe tbody tr th:only-of-type {\n",
       "        vertical-align: middle;\n",
       "    }\n",
       "\n",
       "    .dataframe tbody tr th {\n",
       "        vertical-align: top;\n",
       "    }\n",
       "\n",
       "    .dataframe thead th {\n",
       "        text-align: right;\n",
       "    }\n",
       "</style>\n",
       "<table border=\"1\" class=\"dataframe\">\n",
       "  <thead>\n",
       "    <tr style=\"text-align: right;\">\n",
       "      <th></th>\n",
       "      <th>title</th>\n",
       "      <th>descriptionHTML</th>\n",
       "      <th>summary</th>\n",
       "      <th>installs</th>\n",
       "      <th>minInstalls</th>\n",
       "      <th>realInstalls</th>\n",
       "      <th>score</th>\n",
       "      <th>ratings</th>\n",
       "      <th>reviews</th>\n",
       "      <th>histogram</th>\n",
       "      <th>...</th>\n",
       "      <th>contentRatingDescription</th>\n",
       "      <th>adSupported</th>\n",
       "      <th>containsAds</th>\n",
       "      <th>released</th>\n",
       "      <th>lastUpdatedOn</th>\n",
       "      <th>updated</th>\n",
       "      <th>version</th>\n",
       "      <th>comments</th>\n",
       "      <th>appId</th>\n",
       "      <th>url</th>\n",
       "    </tr>\n",
       "  </thead>\n",
       "  <tbody>\n",
       "    <tr>\n",
       "      <th>0</th>\n",
       "      <td>Google Fit: Activity Tracking</td>\n",
       "      <td>Get to a healthier and more active life with t...</td>\n",
       "      <td>Want to take charge of your health? Let Google...</td>\n",
       "      <td>100,000,000+</td>\n",
       "      <td>100000000</td>\n",
       "      <td>296117598</td>\n",
       "      <td>3.625644</td>\n",
       "      <td>654801</td>\n",
       "      <td>28657</td>\n",
       "      <td>[142175, 48580, 55516, 74414, 334095]</td>\n",
       "      <td>...</td>\n",
       "      <td>NaN</td>\n",
       "      <td>False</td>\n",
       "      <td>False</td>\n",
       "      <td>Oct 28, 2014</td>\n",
       "      <td>Mar 21, 2025</td>\n",
       "      <td>1742558663</td>\n",
       "      <td>Varies with device</td>\n",
       "      <td>[]</td>\n",
       "      <td>com.google.android.apps.fitness</td>\n",
       "      <td>https://play.google.com/store/apps/details?id=...</td>\n",
       "    </tr>\n",
       "    <tr>\n",
       "      <th>1</th>\n",
       "      <td>Samsung Health</td>\n",
       "      <td>Start healthy habits for yourself with Samsung...</td>\n",
       "      <td>Lifestyle companion to track your fitness, wei...</td>\n",
       "      <td>1,000,000,000+</td>\n",
       "      <td>1000000000</td>\n",
       "      <td>2042364950</td>\n",
       "      <td>3.619072</td>\n",
       "      <td>1527915</td>\n",
       "      <td>74556</td>\n",
       "      <td>[315785, 122543, 153946, 171225, 764387]</td>\n",
       "      <td>...</td>\n",
       "      <td>NaN</td>\n",
       "      <td>False</td>\n",
       "      <td>False</td>\n",
       "      <td>Apr 7, 2015</td>\n",
       "      <td>Mar 27, 2025</td>\n",
       "      <td>1743139435</td>\n",
       "      <td>Varies with device</td>\n",
       "      <td>[]</td>\n",
       "      <td>com.sec.android.app.shealth</td>\n",
       "      <td>https://play.google.com/store/apps/details?id=...</td>\n",
       "    </tr>\n",
       "    <tr>\n",
       "      <th>2</th>\n",
       "      <td>Fitbit</td>\n",
       "      <td>See the big picture on your health and fitness...</td>\n",
       "      <td>Fitbit is dedicated to helping people lead hea...</td>\n",
       "      <td>100,000,000+</td>\n",
       "      <td>100000000</td>\n",
       "      <td>137447244</td>\n",
       "      <td>4.049381</td>\n",
       "      <td>1172433</td>\n",
       "      <td>238534</td>\n",
       "      <td>[158936, 60371, 69881, 157897, 725338]</td>\n",
       "      <td>...</td>\n",
       "      <td>NaN</td>\n",
       "      <td>False</td>\n",
       "      <td>False</td>\n",
       "      <td>Mar 16, 2012</td>\n",
       "      <td>Apr 28, 2025</td>\n",
       "      <td>1745856748</td>\n",
       "      <td>Varies with device</td>\n",
       "      <td>[]</td>\n",
       "      <td>com.fitbit.FitbitMobile</td>\n",
       "      <td>https://play.google.com/store/apps/details?id=...</td>\n",
       "    </tr>\n",
       "    <tr>\n",
       "      <th>3</th>\n",
       "      <td>MyFitnessPal: Calorie Counter</td>\n",
       "      <td>Track progress toward your health, nutrition, ...</td>\n",
       "      <td>Log food, nutrition, and macros, find high-pro...</td>\n",
       "      <td>100,000,000+</td>\n",
       "      <td>100000000</td>\n",
       "      <td>125773527</td>\n",
       "      <td>4.358585</td>\n",
       "      <td>2818625</td>\n",
       "      <td>452031</td>\n",
       "      <td>[207995, 94040, 156692, 380405, 1979484]</td>\n",
       "      <td>...</td>\n",
       "      <td>NaN</td>\n",
       "      <td>True</td>\n",
       "      <td>True</td>\n",
       "      <td>Apr 26, 2010</td>\n",
       "      <td>Apr 22, 2025</td>\n",
       "      <td>1745327016</td>\n",
       "      <td>Varies with device</td>\n",
       "      <td>[]</td>\n",
       "      <td>com.myfitnesspal.android</td>\n",
       "      <td>https://play.google.com/store/apps/details?id=...</td>\n",
       "    </tr>\n",
       "    <tr>\n",
       "      <th>4</th>\n",
       "      <td>Strava: Run, Bike, Hike</td>\n",
       "      <td>&lt;b&gt;Join over 125 million active people on Stra...</td>\n",
       "      <td>Track your active life in one place and share ...</td>\n",
       "      <td>50,000,000+</td>\n",
       "      <td>50000000</td>\n",
       "      <td>89102800</td>\n",
       "      <td>4.384068</td>\n",
       "      <td>937138</td>\n",
       "      <td>32288</td>\n",
       "      <td>[85708, 30925, 32254, 77050, 711181]</td>\n",
       "      <td>...</td>\n",
       "      <td>NaN</td>\n",
       "      <td>False</td>\n",
       "      <td>False</td>\n",
       "      <td>Jun 9, 2011</td>\n",
       "      <td>Apr 28, 2025</td>\n",
       "      <td>1745879517</td>\n",
       "      <td>Varies with device</td>\n",
       "      <td>[]</td>\n",
       "      <td>com.strava</td>\n",
       "      <td>https://play.google.com/store/apps/details?id=...</td>\n",
       "    </tr>\n",
       "  </tbody>\n",
       "</table>\n",
       "<p>5 rows × 44 columns</p>\n",
       "</div>"
      ],
      "text/plain": [
       "                           title  \\\n",
       "0  Google Fit: Activity Tracking   \n",
       "1                 Samsung Health   \n",
       "2                         Fitbit   \n",
       "3  MyFitnessPal: Calorie Counter   \n",
       "4        Strava: Run, Bike, Hike   \n",
       "\n",
       "                                     descriptionHTML  \\\n",
       "0  Get to a healthier and more active life with t...   \n",
       "1  Start healthy habits for yourself with Samsung...   \n",
       "2  See the big picture on your health and fitness...   \n",
       "3  Track progress toward your health, nutrition, ...   \n",
       "4  <b>Join over 125 million active people on Stra...   \n",
       "\n",
       "                                             summary        installs  \\\n",
       "0  Want to take charge of your health? Let Google...    100,000,000+   \n",
       "1  Lifestyle companion to track your fitness, wei...  1,000,000,000+   \n",
       "2  Fitbit is dedicated to helping people lead hea...    100,000,000+   \n",
       "3  Log food, nutrition, and macros, find high-pro...    100,000,000+   \n",
       "4  Track your active life in one place and share ...     50,000,000+   \n",
       "\n",
       "   minInstalls  realInstalls     score  ratings  reviews  \\\n",
       "0    100000000     296117598  3.625644   654801    28657   \n",
       "1   1000000000    2042364950  3.619072  1527915    74556   \n",
       "2    100000000     137447244  4.049381  1172433   238534   \n",
       "3    100000000     125773527  4.358585  2818625   452031   \n",
       "4     50000000      89102800  4.384068   937138    32288   \n",
       "\n",
       "                                  histogram  ...  contentRatingDescription  \\\n",
       "0     [142175, 48580, 55516, 74414, 334095]  ...                       NaN   \n",
       "1  [315785, 122543, 153946, 171225, 764387]  ...                       NaN   \n",
       "2    [158936, 60371, 69881, 157897, 725338]  ...                       NaN   \n",
       "3  [207995, 94040, 156692, 380405, 1979484]  ...                       NaN   \n",
       "4      [85708, 30925, 32254, 77050, 711181]  ...                       NaN   \n",
       "\n",
       "   adSupported containsAds      released  lastUpdatedOn     updated  \\\n",
       "0        False       False  Oct 28, 2014   Mar 21, 2025  1742558663   \n",
       "1        False       False   Apr 7, 2015   Mar 27, 2025  1743139435   \n",
       "2        False       False  Mar 16, 2012   Apr 28, 2025  1745856748   \n",
       "3         True        True  Apr 26, 2010   Apr 22, 2025  1745327016   \n",
       "4        False       False   Jun 9, 2011   Apr 28, 2025  1745879517   \n",
       "\n",
       "              version  comments                            appId  \\\n",
       "0  Varies with device        []  com.google.android.apps.fitness   \n",
       "1  Varies with device        []      com.sec.android.app.shealth   \n",
       "2  Varies with device        []          com.fitbit.FitbitMobile   \n",
       "3  Varies with device        []         com.myfitnesspal.android   \n",
       "4  Varies with device        []                       com.strava   \n",
       "\n",
       "                                                 url  \n",
       "0  https://play.google.com/store/apps/details?id=...  \n",
       "1  https://play.google.com/store/apps/details?id=...  \n",
       "2  https://play.google.com/store/apps/details?id=...  \n",
       "3  https://play.google.com/store/apps/details?id=...  \n",
       "4  https://play.google.com/store/apps/details?id=...  \n",
       "\n",
       "[5 rows x 44 columns]"
      ]
     },
     "execution_count": 2,
     "metadata": {},
     "output_type": "execute_result"
    }
   ],
   "source": [
    "import pandas as pd\n",
    "\n",
    "df = pd.read_csv(\"./data/fetched/health_and_fitness_apps.csv\")\n",
    "df.head()"
   ]
  },
  {
   "cell_type": "code",
   "execution_count": 3,
   "id": "3ad0298b",
   "metadata": {},
   "outputs": [
    {
     "name": "stdout",
     "output_type": "stream",
     "text": [
      "Dropped column: histogram\n",
      "Dropped column: sale\n",
      "Dropped column: saleTime\n",
      "Dropped column: originalPrice\n",
      "Dropped column: saleText\n",
      "Dropped column: developerId\n",
      "Dropped column: developerAddress\n",
      "Dropped column: video\n",
      "Dropped column: videoImage\n",
      "Dropped column: contentRatingDescription\n",
      "Dropped column: version\n"
     ]
    }
   ],
   "source": [
    "columns_to_drop = [\n",
    "\t\"histogram\",\n",
    "\t\"sale\",\n",
    "\t\"saleTime\",\n",
    "\t\"originalPrice\",\n",
    "\t\"saleText\",\n",
    "\t\"developerId\",\n",
    "\t\"developerAddress\",\n",
    "\t\"video\",\n",
    "\t\"videoImage\",\n",
    "\t\"contentRatingDescription\",\n",
    "\t\"lastUpdatedOn\" # we fetch the data randomly, so this will be wrong\n",
    "\t\"updated\",\n",
    "\t\"version\",\n",
    "]\n",
    "\n",
    "for col in columns_to_drop:\n",
    "\tif col in df.columns:\n",
    "\t\tdf.drop(columns=col, inplace=True)\n",
    "\t\tprint(f\"Dropped column: {col}\")"
   ]
  },
  {
   "cell_type": "markdown",
   "id": "61607f16",
   "metadata": {},
   "source": [
    "## Checking out the dataset after"
   ]
  },
  {
   "cell_type": "code",
   "execution_count": 4,
   "id": "301d9833",
   "metadata": {},
   "outputs": [
    {
     "data": {
      "text/plain": [
       "(30, 33)"
      ]
     },
     "execution_count": 4,
     "metadata": {},
     "output_type": "execute_result"
    }
   ],
   "source": [
    "df.shape"
   ]
  },
  {
   "cell_type": "code",
   "execution_count": 5,
   "id": "684cd2b6",
   "metadata": {},
   "outputs": [
    {
     "name": "stdout",
     "output_type": "stream",
     "text": [
      "<class 'pandas.core.frame.DataFrame'>\n",
      "RangeIndex: 30 entries, 0 to 29\n",
      "Data columns (total 33 columns):\n",
      " #   Column             Non-Null Count  Dtype  \n",
      "---  ------             --------------  -----  \n",
      " 0   title              30 non-null     object \n",
      " 1   descriptionHTML    30 non-null     object \n",
      " 2   summary            30 non-null     object \n",
      " 3   installs           30 non-null     object \n",
      " 4   minInstalls        30 non-null     int64  \n",
      " 5   realInstalls       30 non-null     int64  \n",
      " 6   score              30 non-null     float64\n",
      " 7   ratings            30 non-null     int64  \n",
      " 8   reviews            30 non-null     int64  \n",
      " 9   price              30 non-null     int64  \n",
      " 10  free               30 non-null     bool   \n",
      " 11  currency           30 non-null     object \n",
      " 12  offersIAP          30 non-null     bool   \n",
      " 13  inAppProductPrice  26 non-null     object \n",
      " 14  developer          30 non-null     object \n",
      " 15  developerEmail     30 non-null     object \n",
      " 16  developerWebsite   30 non-null     object \n",
      " 17  privacyPolicy      30 non-null     object \n",
      " 18  genre              30 non-null     object \n",
      " 19  genreId            30 non-null     object \n",
      " 20  categories         30 non-null     object \n",
      " 21  icon               30 non-null     object \n",
      " 22  headerImage        30 non-null     object \n",
      " 23  screenshots        30 non-null     object \n",
      " 24  contentRating      30 non-null     object \n",
      " 25  adSupported        30 non-null     bool   \n",
      " 26  containsAds        30 non-null     bool   \n",
      " 27  released           30 non-null     object \n",
      " 28  lastUpdatedOn      30 non-null     object \n",
      " 29  updated            30 non-null     int64  \n",
      " 30  comments           30 non-null     object \n",
      " 31  appId              30 non-null     object \n",
      " 32  url                30 non-null     object \n",
      "dtypes: bool(4), float64(1), int64(6), object(22)\n",
      "memory usage: 7.0+ KB\n"
     ]
    }
   ],
   "source": [
    "df.info()"
   ]
  },
  {
   "cell_type": "code",
   "execution_count": 6,
   "id": "95878195",
   "metadata": {},
   "outputs": [
    {
     "data": {
      "text/plain": [
       "genre\n",
       "Health & Fitness    30\n",
       "Name: count, dtype: int64"
      ]
     },
     "execution_count": 6,
     "metadata": {},
     "output_type": "execute_result"
    }
   ],
   "source": [
    "df[\"genre\"].value_counts()"
   ]
  },
  {
   "cell_type": "code",
   "execution_count": 7,
   "id": "9bc16abd",
   "metadata": {},
   "outputs": [
    {
     "data": {
      "text/plain": [
       "developer\n",
       "Google LLC                                          3\n",
       "WELLTECH APPS LIMITED                               2\n",
       "Leap Fitness Group                                  2\n",
       "Samsung Electronics Co.,  Ltd.                      1\n",
       "Strava Inc.                                         1\n",
       "MyFitnessPal, Inc.                                  1\n",
       "FitOn                                               1\n",
       "Fitbod                                              1\n",
       "Hevy Gym Workout Tracker                            1\n",
       "FITTR - Fitness & Personal Training                 1\n",
       "Planet Fitness                                      1\n",
       "HealthifyMe (Calorie Counter, Weight Loss Coach)    1\n",
       "Peloton Interactive, Inc                            1\n",
       "WW INTERNATIONAL, INC.                              1\n",
       "BetterMe Limited                                    1\n",
       "Perigee AB                                          1\n",
       "FITNESS ONLINE LLC                                  1\n",
       "Nike, Inc.                                          1\n",
       "Finch Care Public Benefit Corporation               1\n",
       "Virtuagym                                           1\n",
       "Name: count, dtype: int64"
      ]
     },
     "execution_count": 7,
     "metadata": {},
     "output_type": "execute_result"
    }
   ],
   "source": [
    "df[\"developer\"].value_counts().head(20)"
   ]
  },
  {
   "cell_type": "code",
   "execution_count": 8,
   "id": "d32886c3",
   "metadata": {},
   "outputs": [
    {
     "data": {
      "text/plain": [
       "['installs', 'minInstalls', 'realInstalls']"
      ]
     },
     "execution_count": 8,
     "metadata": {},
     "output_type": "execute_result"
    }
   ],
   "source": [
    "[col for col in df.columns if \"install\" in col.lower()]"
   ]
  },
  {
   "cell_type": "code",
   "execution_count": 10,
   "id": "a57451d4",
   "metadata": {},
   "outputs": [
    {
     "data": {
      "application/vnd.microsoft.datawrangler.viewer.v0+json": {
       "columns": [
        {
         "name": "index",
         "rawType": "int64",
         "type": "integer"
        },
        {
         "name": "title",
         "rawType": "object",
         "type": "string"
        },
        {
         "name": "installs",
         "rawType": "object",
         "type": "string"
        }
       ],
       "conversionMethod": "pd.DataFrame",
       "ref": "6ca8d826-0183-45b1-97c1-9a03439856ff",
       "rows": [
        [
         "1",
         "Samsung Health",
         "1,000,000,000"
        ],
        [
         "11",
         "Health Connect",
         "500,000,000"
        ],
        [
         "2",
         "Fitbit",
         "100,000,000"
        ],
        [
         "3",
         "MyFitnessPal: Calorie Counter",
         "100,000,000"
        ],
        [
         "5",
         "Home Workout - No Equipment",
         "100,000,000"
        ],
        [
         "0",
         "Google Fit: Activity Tracking",
         "100,000,000"
        ],
        [
         "4",
         "Strava: Run, Bike, Hike",
         "50,000,000"
        ],
        [
         "27",
         "Calm - Sleep, Meditate, Relax",
         "50,000,000"
        ],
        [
         "12",
         "Planet Fitness",
         "10,000,000"
        ],
        [
         "6",
         "Weight Loss Walking: WalkFit",
         "10,000,000"
        ],
        [
         "16",
         "BetterMe: Health Coaching",
         "10,000,000"
        ],
        [
         "17",
         "Seven - 7 Minute Workout",
         "10,000,000"
        ],
        [
         "15",
         "WeightWatchers Program",
         "10,000,000"
        ],
        [
         "13",
         "Healthify: AI Diet & Fitness",
         "10,000,000"
        ],
        [
         "28",
         "AllTrails: Hike, Bike & Run",
         "10,000,000"
        ],
        [
         "29",
         "Freeletics: Fitness Workouts",
         "10,000,000"
        ],
        [
         "25",
         "Noom: Weight Loss & Health",
         "10,000,000"
        ],
        [
         "19",
         "Nike Training Club: Fitness",
         "10,000,000"
        ],
        [
         "20",
         "Step Tracker - Pedometer",
         "10,000,000"
        ],
        [
         "26",
         "Calorie Counter by Lose It!",
         "10,000,000"
        ]
       ],
       "shape": {
        "columns": 2,
        "rows": 20
       }
      },
      "text/html": [
       "<div>\n",
       "<style scoped>\n",
       "    .dataframe tbody tr th:only-of-type {\n",
       "        vertical-align: middle;\n",
       "    }\n",
       "\n",
       "    .dataframe tbody tr th {\n",
       "        vertical-align: top;\n",
       "    }\n",
       "\n",
       "    .dataframe thead th {\n",
       "        text-align: right;\n",
       "    }\n",
       "</style>\n",
       "<table border=\"1\" class=\"dataframe\">\n",
       "  <thead>\n",
       "    <tr style=\"text-align: right;\">\n",
       "      <th></th>\n",
       "      <th>title</th>\n",
       "      <th>installs</th>\n",
       "    </tr>\n",
       "  </thead>\n",
       "  <tbody>\n",
       "    <tr>\n",
       "      <th>1</th>\n",
       "      <td>Samsung Health</td>\n",
       "      <td>1,000,000,000</td>\n",
       "    </tr>\n",
       "    <tr>\n",
       "      <th>11</th>\n",
       "      <td>Health Connect</td>\n",
       "      <td>500,000,000</td>\n",
       "    </tr>\n",
       "    <tr>\n",
       "      <th>2</th>\n",
       "      <td>Fitbit</td>\n",
       "      <td>100,000,000</td>\n",
       "    </tr>\n",
       "    <tr>\n",
       "      <th>3</th>\n",
       "      <td>MyFitnessPal: Calorie Counter</td>\n",
       "      <td>100,000,000</td>\n",
       "    </tr>\n",
       "    <tr>\n",
       "      <th>5</th>\n",
       "      <td>Home Workout - No Equipment</td>\n",
       "      <td>100,000,000</td>\n",
       "    </tr>\n",
       "    <tr>\n",
       "      <th>0</th>\n",
       "      <td>Google Fit: Activity Tracking</td>\n",
       "      <td>100,000,000</td>\n",
       "    </tr>\n",
       "    <tr>\n",
       "      <th>4</th>\n",
       "      <td>Strava: Run, Bike, Hike</td>\n",
       "      <td>50,000,000</td>\n",
       "    </tr>\n",
       "    <tr>\n",
       "      <th>27</th>\n",
       "      <td>Calm - Sleep, Meditate, Relax</td>\n",
       "      <td>50,000,000</td>\n",
       "    </tr>\n",
       "    <tr>\n",
       "      <th>12</th>\n",
       "      <td>Planet Fitness</td>\n",
       "      <td>10,000,000</td>\n",
       "    </tr>\n",
       "    <tr>\n",
       "      <th>6</th>\n",
       "      <td>Weight Loss Walking: WalkFit</td>\n",
       "      <td>10,000,000</td>\n",
       "    </tr>\n",
       "    <tr>\n",
       "      <th>16</th>\n",
       "      <td>BetterMe: Health Coaching</td>\n",
       "      <td>10,000,000</td>\n",
       "    </tr>\n",
       "    <tr>\n",
       "      <th>17</th>\n",
       "      <td>Seven - 7 Minute Workout</td>\n",
       "      <td>10,000,000</td>\n",
       "    </tr>\n",
       "    <tr>\n",
       "      <th>15</th>\n",
       "      <td>WeightWatchers Program</td>\n",
       "      <td>10,000,000</td>\n",
       "    </tr>\n",
       "    <tr>\n",
       "      <th>13</th>\n",
       "      <td>Healthify: AI Diet &amp; Fitness</td>\n",
       "      <td>10,000,000</td>\n",
       "    </tr>\n",
       "    <tr>\n",
       "      <th>28</th>\n",
       "      <td>AllTrails: Hike, Bike &amp; Run</td>\n",
       "      <td>10,000,000</td>\n",
       "    </tr>\n",
       "    <tr>\n",
       "      <th>29</th>\n",
       "      <td>Freeletics: Fitness Workouts</td>\n",
       "      <td>10,000,000</td>\n",
       "    </tr>\n",
       "    <tr>\n",
       "      <th>25</th>\n",
       "      <td>Noom: Weight Loss &amp; Health</td>\n",
       "      <td>10,000,000</td>\n",
       "    </tr>\n",
       "    <tr>\n",
       "      <th>19</th>\n",
       "      <td>Nike Training Club: Fitness</td>\n",
       "      <td>10,000,000</td>\n",
       "    </tr>\n",
       "    <tr>\n",
       "      <th>20</th>\n",
       "      <td>Step Tracker - Pedometer</td>\n",
       "      <td>10,000,000</td>\n",
       "    </tr>\n",
       "    <tr>\n",
       "      <th>26</th>\n",
       "      <td>Calorie Counter by Lose It!</td>\n",
       "      <td>10,000,000</td>\n",
       "    </tr>\n",
       "  </tbody>\n",
       "</table>\n",
       "</div>"
      ],
      "text/plain": [
       "                            title       installs\n",
       "1                  Samsung Health  1,000,000,000\n",
       "11                 Health Connect    500,000,000\n",
       "2                          Fitbit    100,000,000\n",
       "3   MyFitnessPal: Calorie Counter    100,000,000\n",
       "5     Home Workout - No Equipment    100,000,000\n",
       "0   Google Fit: Activity Tracking    100,000,000\n",
       "4         Strava: Run, Bike, Hike     50,000,000\n",
       "27  Calm - Sleep, Meditate, Relax     50,000,000\n",
       "12                 Planet Fitness     10,000,000\n",
       "6    Weight Loss Walking: WalkFit     10,000,000\n",
       "16      BetterMe: Health Coaching     10,000,000\n",
       "17       Seven - 7 Minute Workout     10,000,000\n",
       "15         WeightWatchers Program     10,000,000\n",
       "13   Healthify: AI Diet & Fitness     10,000,000\n",
       "28    AllTrails: Hike, Bike & Run     10,000,000\n",
       "29   Freeletics: Fitness Workouts     10,000,000\n",
       "25     Noom: Weight Loss & Health     10,000,000\n",
       "19    Nike Training Club: Fitness     10,000,000\n",
       "20       Step Tracker - Pedometer     10,000,000\n",
       "26    Calorie Counter by Lose It!     10,000,000"
      ]
     },
     "execution_count": 10,
     "metadata": {},
     "output_type": "execute_result"
    }
   ],
   "source": [
    "for install_column in [col for col in df.columns if \"install\" in col.lower()]:\t\n",
    "\tif type(df[install_column][0]) == str:\n",
    "\t\t# turn the installs into a number\n",
    "\t\tdf[install_column] = df[install_column].str.replace(\"+\", \"\").str.replace(\",\", \"\").astype(int)\n",
    "\n",
    "\n",
    "# Show the top 20 most installed apps with formatted numbers\n",
    "INSTALLS_COLUMN = \"installs\"\n",
    "top_apps = df.sort_values(INSTALLS_COLUMN, ascending=False).head(20)[[\"title\", INSTALLS_COLUMN]]\n",
    "top_apps[INSTALLS_COLUMN] = top_apps[INSTALLS_COLUMN].apply(lambda x: f\"{x:,}\")\n",
    "top_apps"
   ]
  },
  {
   "cell_type": "code",
   "execution_count": 11,
   "id": "17701309",
   "metadata": {},
   "outputs": [],
   "source": [
    "df.to_csv(\"./data/cleaned/health_and_fitness_apps.csv\", index=False)\n",
    "df.to_excel(\"./data/cleaned/health_and_fitness_apps.xlsx\", index=False)\n",
    "df.to_json(\"./data/cleaned/health_and_fitness_apps.json\", orient=\"records\", lines=False)\n",
    "df.to_parquet(\"./data/cleaned/health_and_fitness_apps.parquet\", index=False)\n",
    "df.to_pickle(\"./data/cleaned/health_and_fitness_apps.pkl\")"
   ]
  }
 ],
 "metadata": {
  "kernelspec": {
   "display_name": "Python 3",
   "language": "python",
   "name": "python3"
  },
  "language_info": {
   "codemirror_mode": {
    "name": "ipython",
    "version": 3
   },
   "file_extension": ".py",
   "mimetype": "text/x-python",
   "name": "python",
   "nbconvert_exporter": "python",
   "pygments_lexer": "ipython3",
   "version": "3.12.9"
  }
 },
 "nbformat": 4,
 "nbformat_minor": 5
}
